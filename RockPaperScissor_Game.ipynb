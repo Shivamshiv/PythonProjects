import random

rock = '''
    _______
---'   ____)
      (_____)
      (_____)
      (____)
---.__(___)
'''

paper = '''
    _______
---'   ____)____
          ______)
          _______)
         _______)
---.__________)
'''

scissors = '''
    _______
---'   ____)____
          ______)
       __________)
      (____)
---.__(___)
'''

game_images = [rock, paper, scissors]

# User Choice
user_choice = int(input("What do you choose? Type 0 for Rock, 1 for Paper or 2 for Scissors.\n"))

if (user_choice>=3 or user_choice < 0):
    print("You entered an invalid number, you lose!")
else:
    print(game_images[user_choice])

    computer_choice = random.randint(0,2)
    print(f"Computer choice is {computer_choice}")
    print(game_images[computer_choice])

    if (user_choice==computer_choice):
        print("Match draw!")
    elif (user_choice==0):
        if(computer_choice==1):
            print("Coumputer wins!")
        elif(computer_choice==2):
            print("User wins")
    elif (user_choice==1):
        if(computer_choice==0):
            print("User wins!")
        elif(computer_choice==2):
            print("Computer wins")
    elif (user_choice==2):
        if(computer_choice==0):
            print("Coumputer wins!")
        elif(computer_choice==1):
            print("User wins")
